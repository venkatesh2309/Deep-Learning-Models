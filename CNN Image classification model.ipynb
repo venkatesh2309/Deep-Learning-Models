{
 "cells": [
  {
   "cell_type": "code",
   "execution_count": 13,
   "metadata": {},
   "outputs": [],
   "source": [
    "from keras.preprocessing.image import ImageDataGenerator,load_img, array_to_img, img_to_array"
   ]
  },
  {
   "cell_type": "code",
   "execution_count": 2,
   "metadata": {},
   "outputs": [],
   "source": [
    "## for cat data augmentation\n",
    "datagen= ImageDataGenerator(rotation_range=50,\n",
    "                            width_shift_range=0.3,\n",
    "                            height_shift_range=0.3,\n",
    "                            shear_range=0.4,\n",
    "                            zoom_range=0.3,\n",
    "                            horizontal_flip=True,\n",
    "                            vertical_flip=True,\n",
    "                            fill_mode='nearest')\n",
    "img= load_img('cat.jpg')\n",
    "x=img_to_array(img) ## this is numpy array with the shape of ()\n",
    "x=x.reshape((1,) + x.shape) ## this is a numpy array with shape(1,3,2592,1728)\n",
    "## flow command generates batches randomly transformed images and saves the result to the '' directory "
   ]
  },
  {
   "cell_type": "code",
   "execution_count": 3,
   "metadata": {},
   "outputs": [],
   "source": [
    "count=0\n",
    "for batch in datagen.flow(x,batch_size=1,save_to_dir='catimages',save_prefix='catimage',save_format='jpeg'):\n",
    "    count +=1\n",
    "    if count >50:\n",
    "        break  ## else the generator will loop infinitely.jpg\n"
   ]
  },
  {
   "cell_type": "code",
   "execution_count": 4,
   "metadata": {},
   "outputs": [],
   "source": [
    "## for dog data augmentation\n",
    "datagen= ImageDataGenerator(rotation_range=50,\n",
    "                            width_shift_range=0.3,\n",
    "                            height_shift_range=0.3,\n",
    "                            shear_range=0.4,\n",
    "                            zoom_range=0.3,\n",
    "                            horizontal_flip=True,\n",
    "                            vertical_flip=True,\n",
    "                            fill_mode='nearest')\n",
    "img= load_img('dog.jpg')\n",
    "x=img_to_array(img) ## this is numpy array with the shape of ()\n",
    "x=x.reshape((1,) + x.shape) ## this is a numpy array with shape(1,3,2592,1728)\n",
    "## flow command generates batches randomly transformed images and saves the result to the '' directory "
   ]
  },
  {
   "cell_type": "code",
   "execution_count": 5,
   "metadata": {},
   "outputs": [],
   "source": [
    "count=0\n",
    "for batch in datagen.flow(x,batch_size=1,save_to_dir='dogimages',save_prefix='dogimage',save_format='jpeg'):\n",
    "    count +=1\n",
    "    if count >50:\n",
    "        break  ## else the generator will loop infinitely.jpg\n"
   ]
  },
  {
   "cell_type": "code",
   "execution_count": 1,
   "metadata": {},
   "outputs": [],
   "source": [
    "## importing libraries.\n",
    "import tensorflow as tf\n",
    "from tensorflow.keras.layers import Conv2D"
   ]
  },
  {
   "cell_type": "code",
   "execution_count": 2,
   "metadata": {},
   "outputs": [
    {
     "data": {
      "text/plain": [
       "'2.2.0'"
      ]
     },
     "execution_count": 2,
     "metadata": {},
     "output_type": "execute_result"
    }
   ],
   "source": [
    "tf.__version__"
   ]
  },
  {
   "cell_type": "code",
   "execution_count": 3,
   "metadata": {},
   "outputs": [],
   "source": [
    "## building the CNN\n",
    "## Initialising the CNN\n",
    "cnn= tf.keras.models.Sequential()"
   ]
  },
  {
   "cell_type": "code",
   "execution_count": 4,
   "metadata": {},
   "outputs": [],
   "source": [
    "## Initialising the Cionv2D layer\n",
    "cnn.add(tf.keras.layers.Conv2D(filters=64, padding=\"same\", kernel_size=3,activation='relu',input_shape=[64,64,3]))"
   ]
  },
  {
   "cell_type": "code",
   "execution_count": 5,
   "metadata": {},
   "outputs": [],
   "source": [
    "## step 2 pooling\n",
    "cnn.add(tf.keras.layers.MaxPool2D(pool_size=2, strides=2))"
   ]
  },
  {
   "cell_type": "code",
   "execution_count": 6,
   "metadata": {},
   "outputs": [],
   "source": [
    "## adding a second conv2d layer\n",
    "cnn.add(tf.keras.layers.Conv2D(filters=64,padding=\"same\",kernel_size=3,activation='relu'))\n",
    "cnn.add(tf.keras.layers.MaxPool2D(pool_size=2, strides=2))"
   ]
  },
  {
   "cell_type": "code",
   "execution_count": 7,
   "metadata": {},
   "outputs": [],
   "source": [
    "# Step 3 - Flattening\n",
    "cnn.add(tf.keras.layers.Flatten())"
   ]
  },
  {
   "cell_type": "code",
   "execution_count": 8,
   "metadata": {},
   "outputs": [],
   "source": [
    "## step 4 fully connected layer\n",
    "cnn.add(tf.keras.layers.Dense(units=128,activation='relu'))"
   ]
  },
  {
   "cell_type": "code",
   "execution_count": 9,
   "metadata": {},
   "outputs": [],
   "source": [
    "# Step 5 - Output Layer\n",
    "cnn.add(tf.keras.layers.Dense(units=1, activation='sigmoid')) ## sigmolid since its a binary classification"
   ]
  },
  {
   "cell_type": "code",
   "execution_count": 10,
   "metadata": {},
   "outputs": [
    {
     "name": "stdout",
     "output_type": "stream",
     "text": [
      "Model: \"sequential\"\n",
      "_________________________________________________________________\n",
      "Layer (type)                 Output Shape              Param #   \n",
      "=================================================================\n",
      "conv2d (Conv2D)              (None, 64, 64, 64)        1792      \n",
      "_________________________________________________________________\n",
      "max_pooling2d (MaxPooling2D) (None, 32, 32, 64)        0         \n",
      "_________________________________________________________________\n",
      "conv2d_1 (Conv2D)            (None, 32, 32, 64)        36928     \n",
      "_________________________________________________________________\n",
      "max_pooling2d_1 (MaxPooling2 (None, 16, 16, 64)        0         \n",
      "_________________________________________________________________\n",
      "flatten (Flatten)            (None, 16384)             0         \n",
      "_________________________________________________________________\n",
      "dense (Dense)                (None, 128)               2097280   \n",
      "_________________________________________________________________\n",
      "dense_1 (Dense)              (None, 1)                 129       \n",
      "=================================================================\n",
      "Total params: 2,136,129\n",
      "Trainable params: 2,136,129\n",
      "Non-trainable params: 0\n",
      "_________________________________________________________________\n"
     ]
    }
   ],
   "source": [
    "cnn.summary()"
   ]
  },
  {
   "cell_type": "code",
   "execution_count": 11,
   "metadata": {},
   "outputs": [],
   "source": [
    "## part 3 \n",
    "\n",
    "## Compiling the CNN\n",
    "cnn.compile(optimizer=\"adam\",loss='binary_crossentropy',metrics=['accuracy'])\n"
   ]
  },
  {
   "cell_type": "code",
   "execution_count": 14,
   "metadata": {},
   "outputs": [],
   "source": [
    "train_datagen = ImageDataGenerator(\n",
    "        rescale=1./255)\n",
    "test_datagen = ImageDataGenerator(rescale=1./255) ## we should not perform reshaping for test data."
   ]
  },
  {
   "cell_type": "code",
   "execution_count": 15,
   "metadata": {},
   "outputs": [
    {
     "name": "stdout",
     "output_type": "stream",
     "text": [
      "Found 82 images belonging to 2 classes.\n"
     ]
    }
   ],
   "source": [
    "train_set = train_datagen.flow_from_directory(\n",
    "        'Dataset/training_set',\n",
    "        target_size=(64, 64),\n",
    "        batch_size=20,\n",
    "        class_mode='binary')"
   ]
  },
  {
   "cell_type": "code",
   "execution_count": 16,
   "metadata": {},
   "outputs": [
    {
     "name": "stdout",
     "output_type": "stream",
     "text": [
      "Found 20 images belonging to 2 classes.\n"
     ]
    }
   ],
   "source": [
    "test_set = test_datagen.flow_from_directory(\n",
    "        'dataset/test_set',\n",
    "        target_size=(64, 64),\n",
    "        batch_size=20,\n",
    "        class_mode='binary')"
   ]
  },
  {
   "cell_type": "code",
   "execution_count": 18,
   "metadata": {},
   "outputs": [
    {
     "name": "stdout",
     "output_type": "stream",
     "text": [
      "Epoch 1/20\n",
      "5/5 [==============================] - 8s 2s/step - loss: 0.8392 - accuracy: 0.4756 - val_loss: 0.8956 - val_accuracy: 0.5000\n",
      "Epoch 2/20\n",
      "5/5 [==============================] - 8s 2s/step - loss: 0.6981 - accuracy: 0.5244 - val_loss: 0.4033 - val_accuracy: 1.0000\n",
      "Epoch 3/20\n",
      "5/5 [==============================] - 9s 2s/step - loss: 0.3013 - accuracy: 1.0000 - val_loss: 0.0707 - val_accuracy: 1.0000\n",
      "Epoch 4/20\n",
      "5/5 [==============================] - 12s 2s/step - loss: 0.0204 - accuracy: 1.0000 - val_loss: 3.9687e-04 - val_accuracy: 1.0000\n",
      "Epoch 5/20\n",
      "5/5 [==============================] - 8s 2s/step - loss: 0.0025 - accuracy: 1.0000 - val_loss: 1.5540e-04 - val_accuracy: 1.0000\n",
      "Epoch 6/20\n",
      "5/5 [==============================] - 8s 2s/step - loss: 6.0016e-05 - accuracy: 1.0000 - val_loss: 8.9637e-08 - val_accuracy: 1.0000\n",
      "Epoch 7/20\n",
      "5/5 [==============================] - 8s 2s/step - loss: 6.8168e-06 - accuracy: 1.0000 - val_loss: 4.0581e-06 - val_accuracy: 1.0000\n",
      "Epoch 8/20\n",
      "5/5 [==============================] - 8s 2s/step - loss: 5.7626e-05 - accuracy: 1.0000 - val_loss: 5.4396e-05 - val_accuracy: 1.0000\n",
      "Epoch 9/20\n",
      "5/5 [==============================] - 8s 2s/step - loss: 6.1688e-04 - accuracy: 1.0000 - val_loss: 1.6869e-06 - val_accuracy: 1.0000\n",
      "Epoch 10/20\n",
      "5/5 [==============================] - 8s 2s/step - loss: 3.1765e-07 - accuracy: 1.0000 - val_loss: 8.6531e-10 - val_accuracy: 1.0000\n",
      "Epoch 11/20\n",
      "5/5 [==============================] - 8s 2s/step - loss: 9.6086e-10 - accuracy: 1.0000 - val_loss: 1.7174e-10 - val_accuracy: 1.0000\n",
      "Epoch 12/20\n",
      "5/5 [==============================] - 9s 2s/step - loss: 5.5752e-10 - accuracy: 1.0000 - val_loss: 4.3717e-10 - val_accuracy: 1.0000\n",
      "Epoch 13/20\n",
      "5/5 [==============================] - 9s 2s/step - loss: 1.2987e-09 - accuracy: 1.0000 - val_loss: 8.4942e-10 - val_accuracy: 1.0000\n",
      "Epoch 14/20\n",
      "5/5 [==============================] - 8s 2s/step - loss: 2.0480e-09 - accuracy: 1.0000 - val_loss: 1.3274e-09 - val_accuracy: 1.0000\n",
      "Epoch 15/20\n",
      "5/5 [==============================] - 7s 1s/step - loss: 3.3662e-09 - accuracy: 1.0000 - val_loss: 1.7842e-09 - val_accuracy: 1.0000\n",
      "Epoch 16/20\n",
      "5/5 [==============================] - 8s 2s/step - loss: 5.1009e-09 - accuracy: 1.0000 - val_loss: 2.1580e-09 - val_accuracy: 1.0000\n",
      "Epoch 17/20\n",
      "5/5 [==============================] - 8s 2s/step - loss: 6.0193e-09 - accuracy: 1.0000 - val_loss: 2.4322e-09 - val_accuracy: 1.0000\n",
      "Epoch 18/20\n",
      "5/5 [==============================] - 12s 2s/step - loss: 6.8584e-09 - accuracy: 1.0000 - val_loss: 2.6196e-09 - val_accuracy: 1.0000\n",
      "Epoch 19/20\n",
      "5/5 [==============================] - 11s 2s/step - loss: 7.1560e-09 - accuracy: 1.0000 - val_loss: 2.7410e-09 - val_accuracy: 1.0000\n",
      "Epoch 20/20\n",
      "5/5 [==============================] - 11s 2s/step - loss: 7.5981e-09 - accuracy: 1.0000 - val_loss: 2.8174e-09 - val_accuracy: 1.0000\n"
     ]
    },
    {
     "data": {
      "text/plain": [
       "<tensorflow.python.keras.callbacks.History at 0x21aa6fee780>"
      ]
     },
     "execution_count": 18,
     "metadata": {},
     "output_type": "execute_result"
    }
   ],
   "source": [
    "# Training the CNN on the Training set and evaluating it on the Test set\n",
    "cnn.fit(x = train_set, validation_data = test_set, epochs = 20)"
   ]
  },
  {
   "cell_type": "code",
   "execution_count": 40,
   "metadata": {},
   "outputs": [],
   "source": [
    "import numpy as np\n",
    "from tensorflow.keras.preprocessing import image\n",
    "test_image = image.load_img(r'C:\\Users\\venkatesh\\Deep learning\\single_prediction\\dog.jpg', target_size = (64,64))\n",
    "test_image = image.img_to_array(test_image)\n",
    "test_image=test_image/255\n",
    "test_image = np.expand_dims(test_image, axis = 0)\n",
    "result = cnn.predict(test_image)"
   ]
  },
  {
   "cell_type": "code",
   "execution_count": 41,
   "metadata": {},
   "outputs": [
    {
     "data": {
      "text/plain": [
       "array([[1.]], dtype=float32)"
      ]
     },
     "execution_count": 41,
     "metadata": {},
     "output_type": "execute_result"
    }
   ],
   "source": [
    "result"
   ]
  },
  {
   "cell_type": "code",
   "execution_count": 37,
   "metadata": {},
   "outputs": [],
   "source": [
    "\n",
    "# Part 4 - Making a single prediction\n",
    "\n",
    "import numpy as np\n",
    "from tensorflow.keras.preprocessing import image\n",
    "test_image = image.load_img(r'C:\\Users\\venkatesh\\Deep learning\\single_prediction\\cat.jpg', target_size = (64,64))\n",
    "test_image = image.img_to_array(test_image)\n",
    "test_image=test_image/255\n",
    "test_image = np.expand_dims(test_image, axis = 0) ## ??\n",
    "result = cnn.predict(test_image)"
   ]
  },
  {
   "cell_type": "code",
   "execution_count": 38,
   "metadata": {},
   "outputs": [
    {
     "data": {
      "text/plain": [
       "array([[2.994664e-08]], dtype=float32)"
      ]
     },
     "execution_count": 38,
     "metadata": {},
     "output_type": "execute_result"
    }
   ],
   "source": [
    "result"
   ]
  },
  {
   "cell_type": "code",
   "execution_count": 42,
   "metadata": {},
   "outputs": [
    {
     "name": "stdout",
     "output_type": "stream",
     "text": [
      "The image classified is dog\n"
     ]
    }
   ],
   "source": [
    "if result[0]<=0.5:\n",
    "    print(\"The image classified is cat\")\n",
    "else:\n",
    "    print(\"The image classified is dog\")"
   ]
  },
  {
   "cell_type": "code",
   "execution_count": null,
   "metadata": {},
   "outputs": [],
   "source": []
  }
 ],
 "metadata": {
  "kernelspec": {
   "display_name": "Python 3",
   "language": "python",
   "name": "python3"
  },
  "language_info": {
   "codemirror_mode": {
    "name": "ipython",
    "version": 3
   },
   "file_extension": ".py",
   "mimetype": "text/x-python",
   "name": "python",
   "nbconvert_exporter": "python",
   "pygments_lexer": "ipython3",
   "version": "3.7.3"
  }
 },
 "nbformat": 4,
 "nbformat_minor": 4
}
