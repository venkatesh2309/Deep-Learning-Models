{
 "cells": [
  {
   "cell_type": "code",
   "execution_count": 1,
   "metadata": {},
   "outputs": [],
   "source": [
    "from keras.preprocessing.image import ImageDataGenerator,load_img, array_to_img, img_to_array\n",
    "\n",
    "    \n",
    "\n",
    "                            \n",
    "                            \n",
    "                            "
   ]
  },
  {
   "cell_type": "code",
   "execution_count": 4,
   "metadata": {},
   "outputs": [],
   "source": [
    "datagen= ImageDataGenerator(rotation_range=50,\n",
    "                            width_shift_range=0.3,\n",
    "                            height_shift_range=0.3,\n",
    "                            shear_range=0.4,\n",
    "                            zoom_range=0.3,\n",
    "                            horizontal_flip=True,\n",
    "                            vertical_flip=True,\n",
    "                            fill_mode='nearest')\n",
    "img= load_img('venkatself.jpg')\n",
    "x=img_to_array(img) ## this is numpy array with the shape of ()\n",
    "x=x.reshape((1,) + x.shape) ## this is a numpy array with shape(1,3,2592,1728)\n",
    "## flow command generates batches randomly transformed images and saves the result to the '' directory \n"
   ]
  },
  {
   "cell_type": "code",
   "execution_count": 6,
   "metadata": {},
   "outputs": [
    {
     "data": {
      "text/plain": [
       "array([[[[ 68.,  43.,  23.],\n",
       "         [ 70.,  45.,  23.],\n",
       "         [ 74.,  48.,  23.],\n",
       "         ...,\n",
       "         [139., 150., 118.],\n",
       "         [139., 150., 118.],\n",
       "         [137., 148., 116.]],\n",
       "\n",
       "        [[ 70.,  45.,  23.],\n",
       "         [ 71.,  46.,  24.],\n",
       "         [ 75.,  49.,  24.],\n",
       "         ...,\n",
       "         [138., 149., 117.],\n",
       "         [137., 148., 114.],\n",
       "         [135., 146., 112.]],\n",
       "\n",
       "        [[ 67.,  45.,  22.],\n",
       "         [ 68.,  44.,  20.],\n",
       "         [ 71.,  47.,  19.],\n",
       "         ...,\n",
       "         [136., 147., 113.],\n",
       "         [135., 146., 112.],\n",
       "         [133., 144., 110.]],\n",
       "\n",
       "        ...,\n",
       "\n",
       "        [[175., 197., 185.],\n",
       "         [176., 196., 185.],\n",
       "         [179., 197., 185.],\n",
       "         ...,\n",
       "         [213., 181., 170.],\n",
       "         [210., 180., 169.],\n",
       "         [210., 180., 169.]],\n",
       "\n",
       "        [[173., 195., 183.],\n",
       "         [174., 194., 183.],\n",
       "         [177., 194., 184.],\n",
       "         ...,\n",
       "         [210., 178., 167.],\n",
       "         [208., 176., 165.],\n",
       "         [205., 175., 164.]],\n",
       "\n",
       "        [[172., 194., 182.],\n",
       "         [173., 193., 182.],\n",
       "         [176., 193., 183.],\n",
       "         ...,\n",
       "         [207., 175., 164.],\n",
       "         [205., 173., 162.],\n",
       "         [204., 172., 161.]]]], dtype=float32)"
      ]
     },
     "execution_count": 6,
     "metadata": {},
     "output_type": "execute_result"
    }
   ],
   "source": [
    "x"
   ]
  },
  {
   "cell_type": "code",
   "execution_count": null,
   "metadata": {},
   "outputs": [],
   "source": [
    "count=0\n",
    "for batch in datagen.flow(x,batch_size=1,save_to_dir='venkatpic',save_prefix='venkatpic',save_format='jpeg'):\n",
    "    count +=1\n",
    "    if count >30:\n",
    "        break  ## else the generator will loop infinitely.jpg\n"
   ]
  },
  {
   "cell_type": "code",
   "execution_count": null,
   "metadata": {},
   "outputs": [],
   "source": [
    "## keras link: https://keras.io/api/preprocessing/image/#imagedatagenerator-class\n",
    "## youtube link: https://youtu.be/hxLU32zhze0"
   ]
  }
 ],
 "metadata": {
  "kernelspec": {
   "display_name": "Python 3",
   "language": "python",
   "name": "python3"
  },
  "language_info": {
   "codemirror_mode": {
    "name": "ipython",
    "version": 3
   },
   "file_extension": ".py",
   "mimetype": "text/x-python",
   "name": "python",
   "nbconvert_exporter": "python",
   "pygments_lexer": "ipython3",
   "version": "3.7.3"
  }
 },
 "nbformat": 4,
 "nbformat_minor": 4
}
